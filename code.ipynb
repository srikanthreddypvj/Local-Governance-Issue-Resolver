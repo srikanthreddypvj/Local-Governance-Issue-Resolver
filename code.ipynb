{
 "cells": [
  {
   "cell_type": "code",
   "execution_count": 1,
   "metadata": {},
   "outputs": [],
   "source": [
    "import pandas as pd\n",
    "import numpy as np"
   ]
  },
  {
   "cell_type": "code",
   "execution_count": 2,
   "metadata": {},
   "outputs": [
    {
     "data": {
      "text/html": [
       "<div>\n",
       "<style scoped>\n",
       "    .dataframe tbody tr th:only-of-type {\n",
       "        vertical-align: middle;\n",
       "    }\n",
       "\n",
       "    .dataframe tbody tr th {\n",
       "        vertical-align: top;\n",
       "    }\n",
       "\n",
       "    .dataframe thead th {\n",
       "        text-align: right;\n",
       "    }\n",
       "</style>\n",
       "<table border=\"1\" class=\"dataframe\">\n",
       "  <thead>\n",
       "    <tr style=\"text-align: right;\">\n",
       "      <th></th>\n",
       "      <th>Complaint Number</th>\n",
       "      <th>Date Filed</th>\n",
       "      <th>Block</th>\n",
       "      <th>Lot</th>\n",
       "      <th>Street Number</th>\n",
       "      <th>Street Name</th>\n",
       "      <th>Street Suffix</th>\n",
       "      <th>Unit</th>\n",
       "      <th>Complaint Description</th>\n",
       "      <th>Status</th>\n",
       "      <th>...</th>\n",
       "      <th>Date 2nd NOV Issued</th>\n",
       "      <th>Date Referred to City Attorney</th>\n",
       "      <th>Director Hearing Date</th>\n",
       "      <th>Last Inspection Date</th>\n",
       "      <th>Date Abated</th>\n",
       "      <th>Closed Date</th>\n",
       "      <th>Neighborhoods - Analysis Boundaries</th>\n",
       "      <th>Supervisor District</th>\n",
       "      <th>Zipcode</th>\n",
       "      <th>Location</th>\n",
       "    </tr>\n",
       "  </thead>\n",
       "  <tbody>\n",
       "    <tr>\n",
       "      <th>0</th>\n",
       "      <td>201718521</td>\n",
       "      <td>11/10/2017</td>\n",
       "      <td>5360</td>\n",
       "      <td>017</td>\n",
       "      <td>1583</td>\n",
       "      <td>Shafter</td>\n",
       "      <td>Av</td>\n",
       "      <td>NaN</td>\n",
       "      <td>home is not being maintained  windows broken o...</td>\n",
       "      <td>active</td>\n",
       "      <td>...</td>\n",
       "      <td>NaN</td>\n",
       "      <td>NaN</td>\n",
       "      <td>NaN</td>\n",
       "      <td>NaN</td>\n",
       "      <td>NaN</td>\n",
       "      <td>NaN</td>\n",
       "      <td>Bayview Hunters Point</td>\n",
       "      <td>10.0</td>\n",
       "      <td>94124.0</td>\n",
       "      <td>(37.73064513515949, -122.39057114643626)</td>\n",
       "    </tr>\n",
       "    <tr>\n",
       "      <th>1</th>\n",
       "      <td>201716021</td>\n",
       "      <td>11/01/2017</td>\n",
       "      <td>4208</td>\n",
       "      <td>023</td>\n",
       "      <td>1179</td>\n",
       "      <td>Florida</td>\n",
       "      <td>St</td>\n",
       "      <td>NaN</td>\n",
       "      <td>no heat main window leak  electrical box comin...</td>\n",
       "      <td>active</td>\n",
       "      <td>...</td>\n",
       "      <td>NaN</td>\n",
       "      <td>NaN</td>\n",
       "      <td>NaN</td>\n",
       "      <td>11/08/2017</td>\n",
       "      <td>NaN</td>\n",
       "      <td>NaN</td>\n",
       "      <td>Mission</td>\n",
       "      <td>9.0</td>\n",
       "      <td>94110.0</td>\n",
       "      <td>(37.75316372763043, -122.40982940084139)</td>\n",
       "    </tr>\n",
       "    <tr>\n",
       "      <th>2</th>\n",
       "      <td>201715661</td>\n",
       "      <td>10/29/2017</td>\n",
       "      <td>2999B</td>\n",
       "      <td>024</td>\n",
       "      <td>44</td>\n",
       "      <td>Molimo</td>\n",
       "      <td>Dr</td>\n",
       "      <td>NaN</td>\n",
       "      <td>a fire has caused severe damage to this two st...</td>\n",
       "      <td>active</td>\n",
       "      <td>...</td>\n",
       "      <td>NaN</td>\n",
       "      <td>NaN</td>\n",
       "      <td>NaN</td>\n",
       "      <td>NaN</td>\n",
       "      <td>NaN</td>\n",
       "      <td>NaN</td>\n",
       "      <td>West of Twin Peaks</td>\n",
       "      <td>7.0</td>\n",
       "      <td>94127.0</td>\n",
       "      <td>(37.736744501678686, -122.4466933503229)</td>\n",
       "    </tr>\n",
       "    <tr>\n",
       "      <th>3</th>\n",
       "      <td>201715391</td>\n",
       "      <td>10/30/2017</td>\n",
       "      <td>0853</td>\n",
       "      <td>017A</td>\n",
       "      <td>146</td>\n",
       "      <td>Rose</td>\n",
       "      <td>St</td>\n",
       "      <td>NaN</td>\n",
       "      <td>soft story tier 3.  permit not filed.</td>\n",
       "      <td>active</td>\n",
       "      <td>...</td>\n",
       "      <td>NaN</td>\n",
       "      <td>NaN</td>\n",
       "      <td>NaN</td>\n",
       "      <td>NaN</td>\n",
       "      <td>NaN</td>\n",
       "      <td>NaN</td>\n",
       "      <td>Hayes Valley</td>\n",
       "      <td>5.0</td>\n",
       "      <td>94102.0</td>\n",
       "      <td>(37.773623187224075, -122.42326125857504)</td>\n",
       "    </tr>\n",
       "    <tr>\n",
       "      <th>4</th>\n",
       "      <td>201718802</td>\n",
       "      <td>11/10/2017</td>\n",
       "      <td>1636</td>\n",
       "      <td>020</td>\n",
       "      <td>650</td>\n",
       "      <td>09th</td>\n",
       "      <td>Av</td>\n",
       "      <td>NaN</td>\n",
       "      <td>mold/mildew</td>\n",
       "      <td>active</td>\n",
       "      <td>...</td>\n",
       "      <td>NaN</td>\n",
       "      <td>NaN</td>\n",
       "      <td>NaN</td>\n",
       "      <td>NaN</td>\n",
       "      <td>NaN</td>\n",
       "      <td>NaN</td>\n",
       "      <td>Inner Richmond</td>\n",
       "      <td>1.0</td>\n",
       "      <td>94118.0</td>\n",
       "      <td>(37.77613617441706, -122.46681815869513)</td>\n",
       "    </tr>\n",
       "  </tbody>\n",
       "</table>\n",
       "<p>5 rows × 24 columns</p>\n",
       "</div>"
      ],
      "text/plain": [
       "  Complaint Number  Date Filed  Block   Lot  Street Number Street Name  \\\n",
       "0        201718521  11/10/2017   5360   017           1583     Shafter   \n",
       "1        201716021  11/01/2017   4208   023           1179     Florida   \n",
       "2        201715661  10/29/2017  2999B   024             44      Molimo   \n",
       "3        201715391  10/30/2017   0853  017A            146        Rose   \n",
       "4        201718802  11/10/2017   1636   020            650        09th   \n",
       "\n",
       "  Street Suffix  Unit                              Complaint Description  \\\n",
       "0            Av   NaN  home is not being maintained  windows broken o...   \n",
       "1            St   NaN  no heat main window leak  electrical box comin...   \n",
       "2            Dr   NaN  a fire has caused severe damage to this two st...   \n",
       "3            St   NaN              soft story tier 3.  permit not filed.   \n",
       "4            Av   NaN                                        mold/mildew   \n",
       "\n",
       "   Status  ... Date 2nd NOV Issued Date Referred to City Attorney  \\\n",
       "0  active  ...                 NaN                            NaN   \n",
       "1  active  ...                 NaN                            NaN   \n",
       "2  active  ...                 NaN                            NaN   \n",
       "3  active  ...                 NaN                            NaN   \n",
       "4  active  ...                 NaN                            NaN   \n",
       "\n",
       "  Director Hearing Date Last Inspection Date Date Abated Closed Date  \\\n",
       "0                   NaN                  NaN         NaN         NaN   \n",
       "1                   NaN           11/08/2017         NaN         NaN   \n",
       "2                   NaN                  NaN         NaN         NaN   \n",
       "3                   NaN                  NaN         NaN         NaN   \n",
       "4                   NaN                  NaN         NaN         NaN   \n",
       "\n",
       "  Neighborhoods - Analysis Boundaries Supervisor District  Zipcode  \\\n",
       "0               Bayview Hunters Point                10.0  94124.0   \n",
       "1                             Mission                 9.0  94110.0   \n",
       "2                  West of Twin Peaks                 7.0  94127.0   \n",
       "3                        Hayes Valley                 5.0  94102.0   \n",
       "4                      Inner Richmond                 1.0  94118.0   \n",
       "\n",
       "                                    Location  \n",
       "0   (37.73064513515949, -122.39057114643626)  \n",
       "1   (37.75316372763043, -122.40982940084139)  \n",
       "2   (37.736744501678686, -122.4466933503229)  \n",
       "3  (37.773623187224075, -122.42326125857504)  \n",
       "4   (37.77613617441706, -122.46681815869513)  \n",
       "\n",
       "[5 rows x 24 columns]"
      ]
     },
     "execution_count": 2,
     "metadata": {},
     "output_type": "execute_result"
    }
   ],
   "source": [
    "df = pd.read_csv(\"department-of-building-inspection-complaints-all-divisions-1.csv\")\n",
    "df.head()"
   ]
  },
  {
   "cell_type": "code",
   "execution_count": 3,
   "metadata": {},
   "outputs": [
    {
     "data": {
      "text/plain": [
       "Index(['Complaint Number', 'Date Filed', 'Block', 'Lot', 'Street Number',\n",
       "       'Street Name', 'Street Suffix', 'Unit', 'Complaint Description',\n",
       "       'Status', 'NOV Type', 'Receiving Division', 'Assigned Division',\n",
       "       'Date 1st NOV Issued', 'Date 2nd NOV Issued',\n",
       "       'Date Referred to City Attorney', 'Director Hearing Date',\n",
       "       'Last Inspection Date', 'Date Abated', 'Closed Date',\n",
       "       'Neighborhoods - Analysis Boundaries', 'Supervisor District', 'Zipcode',\n",
       "       'Location'],\n",
       "      dtype='object')"
      ]
     },
     "execution_count": 3,
     "metadata": {},
     "output_type": "execute_result"
    }
   ],
   "source": [
    "df.columns"
   ]
  },
  {
   "cell_type": "code",
   "execution_count": 4,
   "metadata": {},
   "outputs": [],
   "source": [
    "df.drop(columns=['Complaint Number','Date Filed', 'Block', 'Lot', 'Street Number',\n",
    "       'Street Name', 'Street Suffix', 'Unit', 'Status', 'NOV Type', 'Receiving Division', 'Assigned Division',\n",
    "       'Date 1st NOV Issued', 'Date 2nd NOV Issued',\n",
    "       'Date Referred to City Attorney', 'Director Hearing Date',\n",
    "       'Last Inspection Date', 'Date Abated', 'Closed Date',\n",
    "       'Neighborhoods - Analysis Boundaries', 'Supervisor District', 'Zipcode',\n",
    "       'Location'],inplace=True)"
   ]
  },
  {
   "cell_type": "code",
   "execution_count": 5,
   "metadata": {},
   "outputs": [
    {
     "data": {
      "text/plain": [
       "Index(['Complaint Description'], dtype='object')"
      ]
     },
     "execution_count": 5,
     "metadata": {},
     "output_type": "execute_result"
    }
   ],
   "source": [
    "df.columns"
   ]
  },
  {
   "cell_type": "code",
   "execution_count": 6,
   "metadata": {},
   "outputs": [],
   "source": [
    "df.rename(columns={\n",
    "    \"Complaint Number\": \"id\"\n",
    "},inplace=True)"
   ]
  },
  {
   "cell_type": "code",
   "execution_count": 7,
   "metadata": {},
   "outputs": [
    {
     "data": {
      "text/plain": [
       "Index(['Complaint Description'], dtype='object')"
      ]
     },
     "execution_count": 7,
     "metadata": {},
     "output_type": "execute_result"
    }
   ],
   "source": [
    "df.columns"
   ]
  },
  {
   "cell_type": "code",
   "execution_count": 8,
   "metadata": {},
   "outputs": [],
   "source": [
    "split_size = len(df) // 14\n",
    "\n",
    "# Split and save to separate CSVs\n",
    "for i in range(14):\n",
    "    start_idx = i * split_size\n",
    "    \n",
    "    # For the last split, include any remaining rows\n",
    "    if i == 13:\n",
    "        split_df = df.iloc[start_idx:]\n",
    "    else:\n",
    "        end_idx = (i + 1) * split_size\n",
    "        split_df = df.iloc[start_idx:end_idx]\n",
    "    \n",
    "    # Reset the index and rename it to 'id'\n",
    "    split_df = split_df.reset_index().rename(columns={\"index\": \"id\"})\n",
    "    \n",
    "    # Save to CSV with numbered filename\n",
    "    split_df.to_csv(f\"data{i+1}.csv\", index=False)\n"
   ]
  },
  {
   "cell_type": "code",
   "execution_count": null,
   "metadata": {},
   "outputs": [],
   "source": []
  }
 ],
 "metadata": {
  "kernelspec": {
   "display_name": "scikitLearn",
   "language": "python",
   "name": "python3"
  },
  "language_info": {
   "codemirror_mode": {
    "name": "ipython",
    "version": 3
   },
   "file_extension": ".py",
   "mimetype": "text/x-python",
   "name": "python",
   "nbconvert_exporter": "python",
   "pygments_lexer": "ipython3",
   "version": "3.10.9"
  }
 },
 "nbformat": 4,
 "nbformat_minor": 2
}
